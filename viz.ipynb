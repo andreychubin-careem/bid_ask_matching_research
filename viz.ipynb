{
 "cells": [
  {
   "cell_type": "code",
   "execution_count": 1,
   "id": "b1b2f3e7-c366-489c-a85a-24f004267619",
   "metadata": {},
   "outputs": [],
   "source": [
    "import os\n",
    "import warnings\n",
    "import numpy as np\n",
    "import pandas as pd\n",
    "import matplotlib.pyplot as plt\n",
    "import seaborn as sns\n",
    "\n",
    "from itertools import product\n",
    "from sklearn.preprocessing import MinMaxScaler\n",
    "\n",
    "from simulation.vizualization import Visualizer"
   ]
  },
  {
   "cell_type": "code",
   "execution_count": 2,
   "id": "6009e1ff-ccdc-40f8-aeb6-438d4d193aa5",
   "metadata": {},
   "outputs": [],
   "source": [
    "warnings.filterwarnings('ignore')"
   ]
  },
  {
   "cell_type": "code",
   "execution_count": 3,
   "id": "87d335b5-c62e-44ef-a925-630b2416d385",
   "metadata": {},
   "outputs": [],
   "source": [
    "def load_data(path_to_dir: str) -> pd.DataFrame:\n",
    "    files = [x for x in os.listdir(path_to_dir) if '.pq' in x]\n",
    "    df_list = []\n",
    "    \n",
    "    for file in files:\n",
    "        sub = pd.read_parquet(os.path.join(path_to_dir, file))\n",
    "        # sub['city'] = file.replace('simulation_results_', '').split('_')[0]\n",
    "        sub['driver_frac'] = round(sub['driver_frac'], 3)\n",
    "        # horizon = file.replace('simulation_results_', '').split('_')[1]\n",
    "        \n",
    "        # if 'min' in horizon:\n",
    "        #     sub['horizon'] = horizon\n",
    "        # else:\n",
    "        #     sub['horizon'] = '3min'\n",
    "            \n",
    "        df_list.append(sub)\n",
    "        \n",
    "    return pd.concat(df_list, ignore_index=True)"
   ]
  },
  {
   "cell_type": "code",
   "execution_count": 4,
   "id": "6200575f-3487-497a-966a-7dd62e1b247e",
   "metadata": {},
   "outputs": [],
   "source": [
    "data = load_data('sim_res')"
   ]
  },
  {
   "cell_type": "markdown",
   "id": "8dc05b09-8251-478f-a5de-197467662f56",
   "metadata": {},
   "source": [
    "### Visualization"
   ]
  },
  {
   "cell_type": "code",
   "execution_count": 5,
   "id": "f57a87fb-0deb-4da2-b62d-330aff881a94",
   "metadata": {},
   "outputs": [],
   "source": [
    "viz = Visualizer()"
   ]
  },
  {
   "cell_type": "code",
   "execution_count": null,
   "id": "e2f8d0b6-dd5e-42c3-b558-69b1c843d632",
   "metadata": {},
   "outputs": [],
   "source": [
    "viz.draw_heatmap(\n",
    "    data,\n",
    "    #filter_list=[\n",
    "    #    'greedy_sequential_matching',\n",
    "    #    'composite_sequential_matching',\n",
    "    #    'k_hungarian_capacity_exhaust',\n",
    "    #    'k_hungarian_matching'\n",
    "    #],\n",
    "    save=False,\n",
    "    optimal=False\n",
    ")"
   ]
  },
  {
   "cell_type": "code",
   "execution_count": 6,
   "id": "ba4692b9-4088-4c74-a073-34d250938697",
   "metadata": {},
   "outputs": [
    {
     "data": {
      "application/vnd.jupyter.widget-view+json": {
       "model_id": "9696166ed51441d891e25ead86c3621d",
       "version_major": 2,
       "version_minor": 0
      },
      "text/plain": [
       "interactive(children=(Dropdown(description='city', options=('riyadh', 'jeddah'), value='riyadh'), Dropdown(des…"
      ]
     },
     "metadata": {},
     "output_type": "display_data"
    }
   ],
   "source": [
    "viz.plot_counts(data, save=False)"
   ]
  },
  {
   "cell_type": "code",
   "execution_count": 7,
   "id": "5d72d72d-ac4f-4841-9792-4d126784b846",
   "metadata": {},
   "outputs": [
    {
     "data": {
      "application/vnd.jupyter.widget-view+json": {
       "model_id": "037721da7f7d424fb87ce417e1ceb930",
       "version_major": 2,
       "version_minor": 0
      },
      "text/plain": [
       "interactive(children=(Dropdown(description='city', options=('riyadh', 'jeddah'), value='riyadh'), Dropdown(des…"
      ]
     },
     "metadata": {},
     "output_type": "display_data"
    }
   ],
   "source": [
    "viz.plot_surface(data, save=False)"
   ]
  },
  {
   "cell_type": "code",
   "execution_count": null,
   "id": "76ae7d3a-1454-4485-9844-f275b4f3b25b",
   "metadata": {
    "tags": []
   },
   "outputs": [],
   "source": [
    "viz.plot_line(data)"
   ]
  },
  {
   "cell_type": "code",
   "execution_count": null,
   "id": "3630d733-848e-4291-bf76-929442400218",
   "metadata": {},
   "outputs": [],
   "source": [
    "viz.plot_static(data)"
   ]
  },
  {
   "cell_type": "markdown",
   "id": "06cf4f9c-c1e9-463e-9673-bdf587d0837e",
   "metadata": {},
   "source": [
    "### Additional plots"
   ]
  },
  {
   "cell_type": "code",
   "execution_count": null,
   "id": "77af5de1-d11a-41bd-abd8-a0ca4db761e6",
   "metadata": {},
   "outputs": [],
   "source": [
    "data.head()"
   ]
  },
  {
   "cell_type": "code",
   "execution_count": null,
   "id": "59a540cd-84ed-42ce-ad1b-ed733259e9b2",
   "metadata": {},
   "outputs": [],
   "source": [
    "df = (\n",
    "    data[\n",
    "        (data.m <= 10) &\n",
    "        (data.m > 1) &\n",
    "        (data.capacity <= 10) &\n",
    "        (data.capacity > 1) &\n",
    "        (data.driver_frac < 1.0) &\n",
    "        (data.driver_frac > 0.05)\n",
    "    ]\n",
    ").copy()\n",
    "\n",
    "df['SR'] = 1 - df['num_clients_with_no_handshake_options'] / df['num_clients']\n",
    "\n",
    "df_list = []\n",
    "\n",
    "for driver_frac in df.driver_frac.unique().tolist():\n",
    "    sub = df[df.driver_frac == driver_frac].copy()\n",
    "    \n",
    "    scaler = MinMaxScaler()\n",
    "    sub['SR'] = scaler.fit_transform(sub['SR'].values.reshape(-1, 1))\n",
    "    df_list.append(sub)\n",
    "    \n",
    "df = pd.concat(df_list).sort_index(axis=0)"
   ]
  },
  {
   "cell_type": "code",
   "execution_count": null,
   "id": "f326e267-5801-4501-a6ba-e3eef9c35888",
   "metadata": {},
   "outputs": [],
   "source": [
    "df = df[['matching_fn', 'capacity', 'm', 'n_possible', 'SR']]\n",
    "df['matching_fn'] = (\n",
    "    df['matching_fn'].str.replace('k_hungarian_capacity_exhaust', 'k_hungarian_one_sided')\n",
    "    .str.replace('k_hungarian_matching', 'fixed_k_hungarian')\n",
    "    .str.replace('k_hungarian_m_capacity_exhaust', 'k_hungarian_two_sided')\n",
    ")"
   ]
  },
  {
   "cell_type": "code",
   "execution_count": null,
   "id": "a418b148-3a02-4cb5-9753-7901ab155146",
   "metadata": {},
   "outputs": [],
   "source": [
    "df.head()"
   ]
  },
  {
   "cell_type": "code",
   "execution_count": null,
   "id": "c2072022-147c-4e9e-a070-b716aa8ed346",
   "metadata": {},
   "outputs": [],
   "source": [
    "df_grouped = df.groupby(['matching_fn', 'capacity', 'm', 'n_possible'], as_index=False).mean()"
   ]
  },
  {
   "cell_type": "code",
   "execution_count": null,
   "id": "22d3da55-a341-4d11-88e3-108c1ed7c888",
   "metadata": {},
   "outputs": [],
   "source": [
    "df_grouped.head()"
   ]
  },
  {
   "cell_type": "code",
   "execution_count": null,
   "id": "e69353a3-0044-4af2-b2ca-1f1836b9468c",
   "metadata": {},
   "outputs": [],
   "source": [
    "def heatmap(data: pd.DataFrame, L: int) -> None:\n",
    "    heat = data[data.n_possible == L].copy()\n",
    "    heat['param'] = heat.apply(lambda row: str(dict(capacity=row['capacity'], M=row['m'])), axis=1)\n",
    "    heat = heat.sort_values(['capacity', 'm']).drop(['capacity', 'm'], axis=1)\n",
    "    df_heat = pd.pivot_table(heat, 'SR', 'param', 'matching_fn', sort=False)\n",
    "    \n",
    "    fig, ax = plt.subplots(1, 1, figsize=(10, 20))  # int(np.ceil(2.23*(10-(L-1))))\n",
    "    heatmap = sns.heatmap(df_heat, annot=True, fmt='.3f', ax=ax, cbar=False, cmap=\"Spectral\")\n",
    "    heatmap.tick_params(top=True, labeltop=True, bottom=False, labelbottom=False)\n",
    "    plt.xticks(rotation=30)\n",
    "    plt.xlabel('')\n",
    "    # plt.savefig(f'rfc_pics/heatmap_avg_l_{L}.png', bbox_inches='tight', pad_inches=0.5)\n",
    "    plt.show()"
   ]
  },
  {
   "cell_type": "code",
   "execution_count": null,
   "id": "b2ce1eb9-9d93-4b92-8b2a-77af7c9eb9b9",
   "metadata": {},
   "outputs": [],
   "source": [
    "heatmap(df_grouped, 5)"
   ]
  },
  {
   "cell_type": "code",
   "execution_count": null,
   "id": "9639610c-b21b-4416-a74f-17ebe239a350",
   "metadata": {},
   "outputs": [],
   "source": [
    "df_grouped_L = df.groupby(['matching_fn', 'n_possible'], as_index=False).mean()"
   ]
  },
  {
   "cell_type": "code",
   "execution_count": null,
   "id": "89a93906-5ad1-4152-a658-d363c7dfb254",
   "metadata": {},
   "outputs": [],
   "source": [
    "sns.lineplot(df_grouped_L, x='n_possible', y='SR', hue='matching_fn')\n",
    "plt.xticks(ticks=[1, 2, 3, 4, 5])\n",
    "plt.xlabel('L')\n",
    "plt.ylabel('Normalized Success Rate')\n",
    "plt.savefig('rfc_pics/L_comp.png', bbox_inches='tight', pad_inches=0.5)\n",
    "plt.show()"
   ]
  },
  {
   "cell_type": "code",
   "execution_count": null,
   "id": "fce6f8a6-bb2d-4029-be63-7ab88bfb4750",
   "metadata": {},
   "outputs": [],
   "source": [
    "len(data)"
   ]
  },
  {
   "cell_type": "code",
   "execution_count": null,
   "id": "a7888b87-88c7-4f18-8906-2f09f7a42160",
   "metadata": {},
   "outputs": [],
   "source": []
  }
 ],
 "metadata": {
  "kernelspec": {
   "display_name": "Python [conda env:geo] *",
   "language": "python",
   "name": "conda-env-geo-py"
  },
  "language_info": {
   "codemirror_mode": {
    "name": "ipython",
    "version": 3
   },
   "file_extension": ".py",
   "mimetype": "text/x-python",
   "name": "python",
   "nbconvert_exporter": "python",
   "pygments_lexer": "ipython3",
   "version": "3.8.16"
  }
 },
 "nbformat": 4,
 "nbformat_minor": 5
}
